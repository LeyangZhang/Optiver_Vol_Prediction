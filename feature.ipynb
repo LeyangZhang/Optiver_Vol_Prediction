{
 "cells": [
  {
   "cell_type": "code",
   "execution_count": 19,
   "metadata": {
    "id": "e-8kJGw7RZ8T"
   },
   "outputs": [],
   "source": [
    "import pandas as pd\n",
    "import numpy as np\n",
    "# import plotly.graph_objects as go\n",
    "# import plotly.express as px\n",
    "import os\n",
    "# from sklearn.metrics import r2_score\n",
    "# import glob\n",
    "import torch\n",
    "from torch.utils.data import Dataset, DataLoader\n",
    "import torch.nn.functional as F\n",
    "# import pdb\n",
    "from tqdm import tqdm\n",
    "from joblib import Parallel, delayed\n",
    "import time"
   ]
  },
  {
   "cell_type": "code",
   "execution_count": 4,
   "metadata": {
    "id": "jFvR3U_XWTCl"
   },
   "outputs": [],
   "source": [
    "train = pd.read_csv('./optiver-realized-volatility-prediction/train.csv')\n",
    "test = pd.read_csv('./optiver-realized-volatility-prediction/test.csv')"
   ]
  },
  {
   "cell_type": "markdown",
   "metadata": {
    "id": "erMBSATwUNk9"
   },
   "source": [
    "## Define Feature"
   ]
  },
  {
   "cell_type": "markdown",
   "metadata": {
    "id": "Fv28b4tkUj3L"
   },
   "source": [
    "### 0, base feature"
   ]
  },
  {
   "cell_type": "code",
   "execution_count": 5,
   "metadata": {
    "id": "sRuan3_dUgxl"
   },
   "outputs": [],
   "source": [
    "def base_feat(ts):\n",
    "    return [ts.mean(), ts.std(), ts.median(), ts.min(), ts.max()]"
   ]
  },
  {
   "cell_type": "markdown",
   "metadata": {
    "id": "lc5T8pzfUPy2"
   },
   "source": [
    "### 1, book feature"
   ]
  },
  {
   "cell_type": "code",
   "execution_count": 6,
   "metadata": {
    "id": "P5gQiD7BUVCg"
   },
   "outputs": [],
   "source": [
    "def bidAskSpread(df_book_data): \n",
    "    return df_book_data.ask_price1/df_book_data.bid_price1 -1 "
   ]
  },
  {
   "cell_type": "code",
   "execution_count": 7,
   "metadata": {
    "id": "GVHHafTxGr3k"
   },
   "outputs": [],
   "source": [
    "def wap(df_book_data):\n",
    "    return (df_book_data['bid_price1'] * df_book_data['ask_size1']+df_book_data['ask_price1'] * df_book_data['bid_size1'])  / (\n",
    "                                      df_book_data['bid_size1']+ df_book_data['ask_size1'])"
   ]
  },
  {
   "cell_type": "code",
   "execution_count": 8,
   "metadata": {
    "id": "pqqc0hrKFkaQ"
   },
   "outputs": [],
   "source": [
    "def logRet_book(df_book_data):\n",
    "    return np.log(wap(df_book_data)).diff()[1:]"
   ]
  },
  {
   "cell_type": "code",
   "execution_count": 9,
   "metadata": {
    "id": "bxYBkW6zG2--"
   },
   "outputs": [],
   "source": [
    "def size_imb(df_book_data):\n",
    "    ask_size = df_book_data.ask_size1 + df_book_data.ask_size2\n",
    "    bid_size = df_book_data.bid_size1 + df_book_data.bid_size2\n",
    "    return (ask_size - bid_size) / (ask_size + bid_size)"
   ]
  },
  {
   "cell_type": "code",
   "execution_count": 10,
   "metadata": {
    "id": "QextvIM0MFCz"
   },
   "outputs": [],
   "source": [
    "book_feat_list = [bidAskSpread, wap, logRet_book, size_imb]"
   ]
  },
  {
   "cell_type": "markdown",
   "metadata": {
    "id": "GUtHFPZXUSOb"
   },
   "source": [
    "### 2, trade feature"
   ]
  },
  {
   "cell_type": "code",
   "execution_count": 11,
   "metadata": {
    "id": "0i-3DiJDKj8v"
   },
   "outputs": [],
   "source": [
    "def logRet_trade(df_trade_data):\n",
    "    return np.log(df_trade_data.price).diff()"
   ]
  },
  {
   "cell_type": "code",
   "execution_count": 12,
   "metadata": {
    "id": "nd40LNP8LRnb"
   },
   "outputs": [],
   "source": [
    "def size_trade(df_trade_data):\n",
    "    return df_trade_data['size']"
   ]
  },
  {
   "cell_type": "code",
   "execution_count": 13,
   "metadata": {
    "id": "x9tEsgdRLbWS"
   },
   "outputs": [],
   "source": [
    "def order_count(df_trade_data):\n",
    "    return df_trade_data.order_count"
   ]
  },
  {
   "cell_type": "code",
   "execution_count": 14,
   "metadata": {
    "id": "IJmMijEaLsKT"
   },
   "outputs": [],
   "source": [
    "trade_feat_list = [logRet_trade, size_trade, order_count]"
   ]
  },
  {
   "cell_type": "markdown",
   "metadata": {
    "id": "RKGwZmtbR_au"
   },
   "source": [
    "## Dataloader"
   ]
  },
  {
   "cell_type": "code",
   "execution_count": 15,
   "metadata": {},
   "outputs": [],
   "source": [
    "stock_id_list_train = np.unique(train.stock_id)\n",
    "stock_id_list_test = np.unique(test.stock_id)"
   ]
  },
  {
   "cell_type": "code",
   "execution_count": 16,
   "metadata": {},
   "outputs": [],
   "source": [
    "def get_data(data, book_feat_list, trade_feat_list, base_feat, stock_id, tag='train'):\n",
    "    book_file_path = f'optiver-realized-volatility-prediction/book_{tag}.parquet/stock_id={stock_id}'\n",
    "    df_book_data = pd.read_parquet(book_file_path)\n",
    "    trade_file_path = f'optiver-realized-volatility-prediction/trade_{tag}.parquet/stock_id={stock_id}'\n",
    "    df_trade_data = pd.read_parquet(trade_file_path)\n",
    "    time_id_list = np.unique(df_trade_data.time_id)\n",
    "    feat_list = []\n",
    "    target_list = []\n",
    "    for time_id in tqdm(time_id_list):\n",
    "        if tag == 'train':\n",
    "            target = data.query(f'stock_id == {stock_id} & time_id == {time_id}').target.item()\n",
    "        else:\n",
    "            target = np.nan\n",
    "        df_book_data_sub = df_book_data.query(f'time_id == {time_id}')\n",
    "        df_trade_data_sub = df_trade_data.query(f'time_id == {time_id}')\n",
    "        feat_list_sub = []\n",
    "        for func in book_feat_list:\n",
    "            feat_list_sub.extend(base_feat(func(df_book_data_sub)))\n",
    "        for func in trade_feat_list:\n",
    "            feat_list_sub.extend(base_feat(func(df_trade_data_sub)))\n",
    "        feat_list.append(np.array(feat_list_sub))\n",
    "        target_list.append(target)\n",
    "    return np.array(target_list), np.stack(feat_list, axis=0)"
   ]
  },
  {
   "cell_type": "code",
   "execution_count": 21,
   "metadata": {},
   "outputs": [
    {
     "name": "stderr",
     "output_type": "stream",
     "text": [
      "[Parallel(n_jobs=-1)]: Using backend LokyBackend with 4 concurrent workers.\n"
     ]
    },
    {
     "name": "stdout",
     "output_type": "stream",
     "text": [
      "--- 2.3250255584716797 seconds ---\n"
     ]
    }
   ],
   "source": [
    "start_time = time.time()\n",
    "result_test = Parallel(n_jobs = -1, verbose = 1)(delayed(get_data)(test, book_feat_list, trade_feat_list, base_feat, stock_id, tag='test') for stock_id in stock_id_list_test)\n",
    "print(\"--- %s seconds ---\" % (time.time() - start_time))"
   ]
  },
  {
   "cell_type": "code",
   "execution_count": 22,
   "metadata": {},
   "outputs": [
    {
     "name": "stderr",
     "output_type": "stream",
     "text": [
      "[Parallel(n_jobs=-1)]: Using backend LokyBackend with 4 concurrent workers.\n"
     ]
    },
    {
     "ename": "KeyboardInterrupt",
     "evalue": "",
     "output_type": "error",
     "traceback": [
      "\u001b[1;31m---------------------------------------------------------------------------\u001b[0m",
      "\u001b[1;31mKeyboardInterrupt\u001b[0m                         Traceback (most recent call last)",
      "Cell \u001b[1;32mIn[22], line 2\u001b[0m\n\u001b[0;32m      1\u001b[0m start_time \u001b[38;5;241m=\u001b[39m time\u001b[38;5;241m.\u001b[39mtime()\n\u001b[1;32m----> 2\u001b[0m result_train \u001b[38;5;241m=\u001b[39m Parallel(n_jobs \u001b[38;5;241m=\u001b[39m \u001b[38;5;241m-\u001b[39m\u001b[38;5;241m1\u001b[39m, verbose \u001b[38;5;241m=\u001b[39m \u001b[38;5;241m1\u001b[39m)(delayed(get_data)(train, book_feat_list, trade_feat_list, base_feat, stock_id, tag\u001b[38;5;241m=\u001b[39m\u001b[38;5;124m'\u001b[39m\u001b[38;5;124mtrain\u001b[39m\u001b[38;5;124m'\u001b[39m) \u001b[38;5;28;01mfor\u001b[39;00m stock_id \u001b[38;5;129;01min\u001b[39;00m stock_id_list_train)\n\u001b[0;32m      3\u001b[0m \u001b[38;5;28mprint\u001b[39m(\u001b[38;5;124m\"\u001b[39m\u001b[38;5;124m--- \u001b[39m\u001b[38;5;132;01m%s\u001b[39;00m\u001b[38;5;124m seconds ---\u001b[39m\u001b[38;5;124m\"\u001b[39m \u001b[38;5;241m%\u001b[39m (time\u001b[38;5;241m.\u001b[39mtime() \u001b[38;5;241m-\u001b[39m start_time))\n",
      "File \u001b[1;32m~\\anaconda3\\envs\\cs7643-a2\\Lib\\site-packages\\joblib\\parallel.py:2007\u001b[0m, in \u001b[0;36mParallel.__call__\u001b[1;34m(self, iterable)\u001b[0m\n\u001b[0;32m   2001\u001b[0m \u001b[38;5;66;03m# The first item from the output is blank, but it makes the interpreter\u001b[39;00m\n\u001b[0;32m   2002\u001b[0m \u001b[38;5;66;03m# progress until it enters the Try/Except block of the generator and\u001b[39;00m\n\u001b[0;32m   2003\u001b[0m \u001b[38;5;66;03m# reaches the first `yield` statement. This starts the asynchronous\u001b[39;00m\n\u001b[0;32m   2004\u001b[0m \u001b[38;5;66;03m# dispatch of the tasks to the workers.\u001b[39;00m\n\u001b[0;32m   2005\u001b[0m \u001b[38;5;28mnext\u001b[39m(output)\n\u001b[1;32m-> 2007\u001b[0m \u001b[38;5;28;01mreturn\u001b[39;00m output \u001b[38;5;28;01mif\u001b[39;00m \u001b[38;5;28mself\u001b[39m\u001b[38;5;241m.\u001b[39mreturn_generator \u001b[38;5;28;01melse\u001b[39;00m \u001b[38;5;28mlist\u001b[39m(output)\n",
      "File \u001b[1;32m~\\anaconda3\\envs\\cs7643-a2\\Lib\\site-packages\\joblib\\parallel.py:1650\u001b[0m, in \u001b[0;36mParallel._get_outputs\u001b[1;34m(self, iterator, pre_dispatch)\u001b[0m\n\u001b[0;32m   1647\u001b[0m     \u001b[38;5;28;01myield\u001b[39;00m\n\u001b[0;32m   1649\u001b[0m     \u001b[38;5;28;01mwith\u001b[39;00m \u001b[38;5;28mself\u001b[39m\u001b[38;5;241m.\u001b[39m_backend\u001b[38;5;241m.\u001b[39mretrieval_context():\n\u001b[1;32m-> 1650\u001b[0m         \u001b[38;5;28;01myield from\u001b[39;00m \u001b[38;5;28mself\u001b[39m\u001b[38;5;241m.\u001b[39m_retrieve()\n\u001b[0;32m   1652\u001b[0m \u001b[38;5;28;01mexcept\u001b[39;00m \u001b[38;5;167;01mGeneratorExit\u001b[39;00m:\n\u001b[0;32m   1653\u001b[0m     \u001b[38;5;66;03m# The generator has been garbage collected before being fully\u001b[39;00m\n\u001b[0;32m   1654\u001b[0m     \u001b[38;5;66;03m# consumed. This aborts the remaining tasks if possible and warn\u001b[39;00m\n\u001b[0;32m   1655\u001b[0m     \u001b[38;5;66;03m# the user if necessary.\u001b[39;00m\n\u001b[0;32m   1656\u001b[0m     \u001b[38;5;28mself\u001b[39m\u001b[38;5;241m.\u001b[39m_exception \u001b[38;5;241m=\u001b[39m \u001b[38;5;28;01mTrue\u001b[39;00m\n",
      "File \u001b[1;32m~\\anaconda3\\envs\\cs7643-a2\\Lib\\site-packages\\joblib\\parallel.py:1762\u001b[0m, in \u001b[0;36mParallel._retrieve\u001b[1;34m(self)\u001b[0m\n\u001b[0;32m   1757\u001b[0m \u001b[38;5;66;03m# If the next job is not ready for retrieval yet, we just wait for\u001b[39;00m\n\u001b[0;32m   1758\u001b[0m \u001b[38;5;66;03m# async callbacks to progress.\u001b[39;00m\n\u001b[0;32m   1759\u001b[0m \u001b[38;5;28;01mif\u001b[39;00m ((\u001b[38;5;28mlen\u001b[39m(\u001b[38;5;28mself\u001b[39m\u001b[38;5;241m.\u001b[39m_jobs) \u001b[38;5;241m==\u001b[39m \u001b[38;5;241m0\u001b[39m) \u001b[38;5;129;01mor\u001b[39;00m\n\u001b[0;32m   1760\u001b[0m     (\u001b[38;5;28mself\u001b[39m\u001b[38;5;241m.\u001b[39m_jobs[\u001b[38;5;241m0\u001b[39m]\u001b[38;5;241m.\u001b[39mget_status(\n\u001b[0;32m   1761\u001b[0m         timeout\u001b[38;5;241m=\u001b[39m\u001b[38;5;28mself\u001b[39m\u001b[38;5;241m.\u001b[39mtimeout) \u001b[38;5;241m==\u001b[39m TASK_PENDING)):\n\u001b[1;32m-> 1762\u001b[0m     time\u001b[38;5;241m.\u001b[39msleep(\u001b[38;5;241m0.01\u001b[39m)\n\u001b[0;32m   1763\u001b[0m     \u001b[38;5;28;01mcontinue\u001b[39;00m\n\u001b[0;32m   1765\u001b[0m \u001b[38;5;66;03m# We need to be careful: the job list can be filling up as\u001b[39;00m\n\u001b[0;32m   1766\u001b[0m \u001b[38;5;66;03m# we empty it and Python list are not thread-safe by\u001b[39;00m\n\u001b[0;32m   1767\u001b[0m \u001b[38;5;66;03m# default hence the use of the lock\u001b[39;00m\n",
      "\u001b[1;31mKeyboardInterrupt\u001b[0m: "
     ]
    }
   ],
   "source": [
    "start_time = time.time()\n",
    "result_train = Parallel(n_jobs = -1, verbose = 1)(delayed(get_data)(train, book_feat_list, trade_feat_list, base_feat, stock_id, tag='train') for stock_id in stock_id_list_train)\n",
    "print(\"--- %s seconds ---\" % (time.time() - start_time))"
   ]
  },
  {
   "cell_type": "code",
   "execution_count": 83,
   "metadata": {},
   "outputs": [],
   "source": [
    "train_y = []\n",
    "train_x = []\n",
    "for data in result_train:\n",
    "    train_y.append(data[0])\n",
    "    train_x.append(data[1])"
   ]
  },
  {
   "cell_type": "code",
   "execution_count": 84,
   "metadata": {},
   "outputs": [],
   "source": [
    "train_x = np.vstack(train_x)\n",
    "train_y = np.hstack(train_y)"
   ]
  },
  {
   "cell_type": "code",
   "execution_count": 87,
   "metadata": {},
   "outputs": [],
   "source": [
    "np.save('train_x.npy', train_x)\n",
    "np.save('train_y.npy', train_y)"
   ]
  },
  {
   "cell_type": "code",
   "execution_count": null,
   "metadata": {},
   "outputs": [],
   "source": [
    "np.save('train_x.npy', train_x)\n",
    "np.save('train_y.npy', train_y)"
   ]
  },
  {
   "cell_type": "code",
   "execution_count": 109,
   "metadata": {},
   "outputs": [],
   "source": [
    "test_x = []\n",
    "for data in result_test:\n",
    "    test_x.append(data[1])"
   ]
  },
  {
   "cell_type": "code",
   "execution_count": 110,
   "metadata": {},
   "outputs": [],
   "source": [
    "np.save('test_x.npy', test_x)"
   ]
  },
  {
   "cell_type": "code",
   "execution_count": null,
   "metadata": {
    "id": "W55ithooR-eg"
   },
   "outputs": [],
   "source": [
    "# class MarketDataset(Dataset):\n",
    "#     def __init__(self, train_data, ob_feat_list=None, t_feat_list=None):\n",
    "#         self.train_data = train_data\n",
    "#         self.ob_feat_list = ob_feat_list\n",
    "#         self.t_feat_list = t_feat_list\n",
    "    \n",
    "#     def __len__(self):\n",
    "#         return len(self.train_data)\n",
    "    \n",
    "#     def __getitem__(self, index):\n",
    "        \n",
    "#         stock_id = int(self.train_data.loc[index].stock_id)\n",
    "#         time_id = int(self.train_data.loc[index].time_id)\n",
    "#         book_file_path = f'optiver-realized-volatility-prediction/book_train.parquet/stock_id={stock_id}'\n",
    "#         df_book_data = pd.read_parquet(book_file_path).query(f'time_id == {time_id}')\n",
    "#         trade_file_path = f'optiver-realized-volatility-prediction/trade_train.parquet/stock_id={stock_id}'\n",
    "#         df_trade_data = pd.read_parquet(trade_file_path).query(f'time_id == {time_id}')\n",
    "#         target = self.train_data.query(f'stock_id == {stock_id} & time_id == {time_id}').target.item()\n",
    "\n",
    "#         feat_list = []\n",
    "#         for func in book_feat_list:\n",
    "#           feat_list.extend(base_feat(func(df_book_data)))\n",
    "#         for func in trade_feat_list:\n",
    "#           feat_list.extend(base_feat(func(df_trade_data)))\n",
    "\n",
    "#         return target, np.array(feat_list)"
   ]
  }
 ],
 "metadata": {
  "colab": {
   "name": "train01.ipynb",
   "provenance": []
  },
  "kernelspec": {
   "display_name": "Python 3 (ipykernel)",
   "language": "python",
   "name": "python3"
  },
  "language_info": {
   "codemirror_mode": {
    "name": "ipython",
    "version": 3
   },
   "file_extension": ".py",
   "mimetype": "text/x-python",
   "name": "python",
   "nbconvert_exporter": "python",
   "pygments_lexer": "ipython3",
   "version": "3.9.7"
  }
 },
 "nbformat": 4,
 "nbformat_minor": 4
}

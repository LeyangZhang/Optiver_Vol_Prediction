{
 "cells": [
  {
   "cell_type": "code",
   "execution_count": 1,
   "metadata": {
    "id": "e-8kJGw7RZ8T"
   },
   "outputs": [],
   "source": [
    "import pandas as pd\n",
    "import numpy as np\n",
    "import plotly.graph_objects as go\n",
    "import plotly.express as px\n",
    "import os\n",
    "from sklearn.metrics import r2_score\n",
    "import glob\n",
    "import torch\n",
    "from torch.utils.data import Dataset, DataLoader\n",
    "import torch.nn.functional as F\n",
    "import pdb\n",
    "from tqdm import tqdm\n",
    "from joblib import Parallel, delayed\n",
    "import time"
   ]
  },
  {
   "cell_type": "code",
   "execution_count": 2,
   "metadata": {
    "id": "jFvR3U_XWTCl"
   },
   "outputs": [],
   "source": [
    "train = pd.read_csv('./optiver-realized-volatility-prediction/train.csv')\n",
    "test = pd.read_csv('./optiver-realized-volatility-prediction/test.csv')"
   ]
  },
  {
   "cell_type": "markdown",
   "metadata": {
    "id": "erMBSATwUNk9"
   },
   "source": [
    "## Define Feature"
   ]
  },
  {
   "cell_type": "markdown",
   "metadata": {
    "id": "Fv28b4tkUj3L"
   },
   "source": [
    "### 0, base feature"
   ]
  },
  {
   "cell_type": "code",
   "execution_count": 3,
   "metadata": {
    "id": "sRuan3_dUgxl"
   },
   "outputs": [],
   "source": [
    "def base_feat(ts):\n",
    "    return [ts.mean(), ts.std(), ts.median(), ts.min(), ts.max()]"
   ]
  },
  {
   "cell_type": "markdown",
   "metadata": {
    "id": "lc5T8pzfUPy2"
   },
   "source": [
    "### 1, book feature"
   ]
  },
  {
   "cell_type": "code",
   "execution_count": 4,
   "metadata": {
    "id": "P5gQiD7BUVCg"
   },
   "outputs": [],
   "source": [
    "def bidAskSpread(df_book_data): \n",
    "    return df_book_data.ask_price1/df_book_data.bid_price1 -1 "
   ]
  },
  {
   "cell_type": "code",
   "execution_count": 5,
   "metadata": {
    "id": "GVHHafTxGr3k"
   },
   "outputs": [],
   "source": [
    "def wap(df_book_data):\n",
    "    return (df_book_data['bid_price1'] * df_book_data['ask_size1']+df_book_data['ask_price1'] * df_book_data['bid_size1'])  / (\n",
    "                                      df_book_data['bid_size1']+ df_book_data['ask_size1'])"
   ]
  },
  {
   "cell_type": "code",
   "execution_count": 6,
   "metadata": {
    "id": "pqqc0hrKFkaQ"
   },
   "outputs": [],
   "source": [
    "def logRet_book(df_book_data):\n",
    "    return np.log(wap(df_book_data)).diff()[1:]"
   ]
  },
  {
   "cell_type": "code",
   "execution_count": 7,
   "metadata": {
    "id": "bxYBkW6zG2--"
   },
   "outputs": [],
   "source": [
    "def size_imb(df_book_data):\n",
    "    ask_size = df_book_data.ask_size1 + df_book_data.ask_size2\n",
    "    bid_size = df_book_data.bid_size1 + df_book_data.bid_size2\n",
    "    return (ask_size - bid_size) / (ask_size + bid_size)"
   ]
  },
  {
   "cell_type": "code",
   "execution_count": 8,
   "metadata": {
    "id": "QextvIM0MFCz"
   },
   "outputs": [],
   "source": [
    "book_feat_list = [bidAskSpread, wap, logRet_book, size_imb]"
   ]
  },
  {
   "cell_type": "markdown",
   "metadata": {
    "id": "GUtHFPZXUSOb"
   },
   "source": [
    "### 2, trade feature"
   ]
  },
  {
   "cell_type": "code",
   "execution_count": 9,
   "metadata": {
    "id": "0i-3DiJDKj8v"
   },
   "outputs": [],
   "source": [
    "def logRet_trade(df_trade_data):\n",
    "    return np.log(df_trade_data.price).diff()"
   ]
  },
  {
   "cell_type": "code",
   "execution_count": 10,
   "metadata": {
    "id": "nd40LNP8LRnb"
   },
   "outputs": [],
   "source": [
    "def size_trade(df_trade_data):\n",
    "    return df_trade_data['size']"
   ]
  },
  {
   "cell_type": "code",
   "execution_count": 11,
   "metadata": {
    "id": "x9tEsgdRLbWS"
   },
   "outputs": [],
   "source": [
    "def order_count(df_trade_data):\n",
    "    return df_trade_data.order_count"
   ]
  },
  {
   "cell_type": "code",
   "execution_count": 12,
   "metadata": {
    "id": "IJmMijEaLsKT"
   },
   "outputs": [],
   "source": [
    "trade_feat_list = [logRet_trade, size_trade, order_count]"
   ]
  },
  {
   "cell_type": "markdown",
   "metadata": {
    "id": "RKGwZmtbR_au"
   },
   "source": [
    "## Dataloader"
   ]
  },
  {
   "cell_type": "code",
   "execution_count": 55,
   "metadata": {},
   "outputs": [],
   "source": [
    "stock_id_list_train = np.unique(train.stock_id)\n",
    "stock_id_list_test = np.unique(test.stock_id)"
   ]
  },
  {
   "cell_type": "code",
   "execution_count": 58,
   "metadata": {},
   "outputs": [],
   "source": [
    "def get_data(data, book_feat_list, trade_feat_list, base_feat, stock_id, tag='train'):\n",
    "    book_file_path = f'optiver-realized-volatility-prediction/book_{tag}.parquet/stock_id={stock_id}'\n",
    "    df_book_data = pd.read_parquet(book_file_path)\n",
    "    trade_file_path = f'optiver-realized-volatility-prediction/trade_{tag}.parquet/stock_id={stock_id}'\n",
    "    df_trade_data = pd.read_parquet(trade_file_path)\n",
    "    time_id_list = np.unique(df_trade_data.time_id)\n",
    "    feat_list = []\n",
    "    target_list = []\n",
    "    for time_id in tqdm(time_id_list):\n",
    "        if tag == 'train':\n",
    "            target = data.query(f'stock_id == {stock_id} & time_id == {time_id}').target.item()\n",
    "        else:\n",
    "            target = np.nan\n",
    "        df_book_data_sub = df_book_data.query(f'time_id == {time_id}')\n",
    "        df_trade_data_sub = df_trade_data.query(f'time_id == {time_id}')\n",
    "        feat_list_sub = []\n",
    "        for func in book_feat_list:\n",
    "            feat_list_sub.extend(base_feat(func(df_book_data_sub)))\n",
    "        for func in trade_feat_list:\n",
    "            feat_list_sub.extend(base_feat(func(df_trade_data_sub)))\n",
    "        feat_list.append(np.array(feat_list_sub))\n",
    "        target_list.append(target)\n",
    "    return np.array(target_list), np.stack(feat_list, axis=0)"
   ]
  },
  {
   "cell_type": "code",
   "execution_count": 60,
   "metadata": {},
   "outputs": [
    {
     "name": "stderr",
     "output_type": "stream",
     "text": [
      "[Parallel(n_jobs=-1)]: Using backend LokyBackend with 12 concurrent workers.\n"
     ]
    },
    {
     "name": "stdout",
     "output_type": "stream",
     "text": [
      "--- 0.382068395614624 seconds ---\n"
     ]
    },
    {
     "name": "stderr",
     "output_type": "stream",
     "text": [
      "[Parallel(n_jobs=-1)]: Done   1 out of   1 | elapsed:    0.3s finished\n"
     ]
    }
   ],
   "source": [
    "start_time = time.time()\n",
    "result_test = Parallel(n_jobs = -1, verbose = 1)(delayed(get_data)(test, book_feat_list, trade_feat_list, base_feat, stock_id, tag='test') for stock_id in stock_id_list_test)\n",
    "print(\"--- %s seconds ---\" % (time.time() - start_time))"
   ]
  },
  {
   "cell_type": "code",
   "execution_count": 64,
   "metadata": {},
   "outputs": [
    {
     "name": "stderr",
     "output_type": "stream",
     "text": [
      "[Parallel(n_jobs=-1)]: Using backend LokyBackend with 12 concurrent workers.\n",
      "[Parallel(n_jobs=-1)]: Done  26 tasks      | elapsed: 12.4min\n"
     ]
    },
    {
     "name": "stdout",
     "output_type": "stream",
     "text": [
      "--- 2668.3007152080536 seconds ---\n"
     ]
    },
    {
     "name": "stderr",
     "output_type": "stream",
     "text": [
      "[Parallel(n_jobs=-1)]: Done 112 out of 112 | elapsed: 44.5min finished\n"
     ]
    }
   ],
   "source": [
    "start_time = time.time()\n",
    "result_train = Parallel(n_jobs = -1, verbose = 1)(delayed(get_data)(train, book_feat_list, trade_feat_list, base_feat, stock_id, tag='train') for stock_id in stock_id_list_train)\n",
    "print(\"--- %s seconds ---\" % (time.time() - start_time))"
   ]
  },
  {
   "cell_type": "code",
   "execution_count": 83,
   "metadata": {},
   "outputs": [],
   "source": [
    "train_y = []\n",
    "train_x = []\n",
    "for data in result_train:\n",
    "    train_y.append(data[0])\n",
    "    train_x.append(data[1])"
   ]
  },
  {
   "cell_type": "code",
   "execution_count": 84,
   "metadata": {},
   "outputs": [],
   "source": [
    "train_x = np.vstack(train_x)\n",
    "train_y = np.hstack(train_y)"
   ]
  },
  {
   "cell_type": "code",
   "execution_count": 87,
   "metadata": {},
   "outputs": [],
   "source": [
    "np.save('train_x.npy', train_x)\n",
    "np.save('train_y.npy', train_y)"
   ]
  },
  {
   "cell_type": "code",
   "execution_count": null,
   "metadata": {},
   "outputs": [],
   "source": [
    "np.save('train_x.npy', train_x)\n",
    "np.save('train_y.npy', train_y)"
   ]
  },
  {
   "cell_type": "code",
   "execution_count": 109,
   "metadata": {},
   "outputs": [],
   "source": [
    "test_x = []\n",
    "for data in result_test:\n",
    "    test_x.append(data[1])"
   ]
  },
  {
   "cell_type": "code",
   "execution_count": 110,
   "metadata": {},
   "outputs": [],
   "source": [
    "np.save('test_x.npy', test_x)"
   ]
  },
  {
   "cell_type": "code",
   "execution_count": null,
   "metadata": {
    "id": "W55ithooR-eg"
   },
   "outputs": [],
   "source": [
    "# class MarketDataset(Dataset):\n",
    "#     def __init__(self, train_data, ob_feat_list=None, t_feat_list=None):\n",
    "#         self.train_data = train_data\n",
    "#         self.ob_feat_list = ob_feat_list\n",
    "#         self.t_feat_list = t_feat_list\n",
    "    \n",
    "#     def __len__(self):\n",
    "#         return len(self.train_data)\n",
    "    \n",
    "#     def __getitem__(self, index):\n",
    "        \n",
    "#         stock_id = int(self.train_data.loc[index].stock_id)\n",
    "#         time_id = int(self.train_data.loc[index].time_id)\n",
    "#         book_file_path = f'optiver-realized-volatility-prediction/book_train.parquet/stock_id={stock_id}'\n",
    "#         df_book_data = pd.read_parquet(book_file_path).query(f'time_id == {time_id}')\n",
    "#         trade_file_path = f'optiver-realized-volatility-prediction/trade_train.parquet/stock_id={stock_id}'\n",
    "#         df_trade_data = pd.read_parquet(trade_file_path).query(f'time_id == {time_id}')\n",
    "#         target = self.train_data.query(f'stock_id == {stock_id} & time_id == {time_id}').target.item()\n",
    "\n",
    "#         feat_list = []\n",
    "#         for func in book_feat_list:\n",
    "#           feat_list.extend(base_feat(func(df_book_data)))\n",
    "#         for func in trade_feat_list:\n",
    "#           feat_list.extend(base_feat(func(df_trade_data)))\n",
    "\n",
    "#         return target, np.array(feat_list)"
   ]
  }
 ],
 "metadata": {
  "colab": {
   "name": "train01.ipynb",
   "provenance": []
  },
  "kernelspec": {
   "display_name": "Python 3 (ipykernel)",
   "language": "python",
   "name": "python3"
  },
  "language_info": {
   "codemirror_mode": {
    "name": "ipython",
    "version": 3
   },
   "file_extension": ".py",
   "mimetype": "text/x-python",
   "name": "python",
   "nbconvert_exporter": "python",
   "pygments_lexer": "ipython3",
   "version": "3.9.7"
  }
 },
 "nbformat": 4,
 "nbformat_minor": 4
}
